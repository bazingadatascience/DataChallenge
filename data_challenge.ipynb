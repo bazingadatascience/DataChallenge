{
 "cells": [
  {
   "cell_type": "markdown",
   "metadata": {},
   "source": [
    "# DBL Data Challenge\n",
    "Team Members: Atharva Kale, Borna Bengez, Donghyeok Lee, Jona Loxha, Paula Dodig, Philipp Merz, Swaraj Shah<br>\n",
    "WRITE UP SHORT SUMMARY"
   ]
  },
  {
   "cell_type": "code",
   "execution_count": 1,
   "metadata": {},
   "outputs": [],
   "source": [
    "#import important modules\n",
    "import pymongo as pm\n",
    "import pandas as pd\n",
    "import matplotlib.pyplot as plt\n",
    "import numpy as np\n",
    "import sklearn as skl\n",
    "from pymongo import MongoClient\n",
    "import secrets\n",
    "import json"
   ]
  },
  {
   "cell_type": "code",
   "execution_count": 14,
   "metadata": {},
   "outputs": [],
   "source": [
    "with open('editeddata/conversations.json', 'r') as convo_json:\n",
    "    convos = json.load(convo_json)"
   ]
  },
  {
   "cell_type": "code",
   "execution_count": 2,
   "metadata": {},
   "outputs": [],
   "source": [
    "client = MongoClient('localhost', 27017)"
   ]
  },
  {
   "cell_type": "code",
   "execution_count": 3,
   "metadata": {},
   "outputs": [],
   "source": [
    "mydb = client.tweets"
   ]
  },
  {
   "cell_type": "code",
   "execution_count": 4,
   "metadata": {},
   "outputs": [],
   "source": [
    "col = mydb['_tweets']"
   ]
  },
  {
   "cell_type": "code",
   "execution_count": 82,
   "metadata": {},
   "outputs": [
    {
     "data": {
      "text/plain": [
       "{'_id': ObjectId('5eb6ce36836b298628c00c01'),\n",
       " 'id': 1131173065122078700,\n",
       " 'text': 'So @AmericanAir @EWRairport lied to an old lady causing her to miss her flight #934 to LHR. She arrived at 6:05am for a flight departing at 8:30am,mum has no medication,is in a wheelchair and they just ignore the fact they caused this.Worse airline company. Zero customer service',\n",
       " 'in_reply_to_status_id': None,\n",
       " 'in_reply_to_user_id': None,\n",
       " 'user': {'id': 2730172562,\n",
       "  'followers_count': 163,\n",
       "  'verified': False,\n",
       "  'location': 'A rock in space'},\n",
       " 'contributors': None,\n",
       " 'is_quote_status': False,\n",
       " 'quote_count': 0,\n",
       " 'reply_count': 0,\n",
       " 'retweet_count': 0,\n",
       " 'favorite_count': 0,\n",
       " 'timestamp_ms': '1558527649561',\n",
       " 'language': 'eng'}"
      ]
     },
     "execution_count": 82,
     "metadata": {},
     "output_type": "execute_result"
    }
   ],
   "source": [
    "import pprint\n",
    "pprint.pprint(col.find_one({'language':'eng'}))"
   ]
  },
  {
   "cell_type": "code",
   "execution_count": 41,
   "metadata": {},
   "outputs": [
    {
     "data": {
      "text/plain": [
       "135572"
      ]
     },
     "execution_count": 41,
     "metadata": {},
     "output_type": "execute_result"
    }
   ],
   "source": [
    "#all conversations from conversations.json\n",
    "nr_conv = 0\n",
    "for key in convos:\n",
    "    nr_conv += 1\n",
    "nr_conv"
   ]
  },
  {
   "cell_type": "code",
   "execution_count": 89,
   "metadata": {},
   "outputs": [
    {
     "data": {
      "text/plain": [
       "1531145"
      ]
     },
     "execution_count": 89,
     "metadata": {},
     "output_type": "execute_result"
    }
   ],
   "source": [
    "#all tweets from tweets.json\n",
    "nr_all = 0\n",
    "for t in col.find():\n",
    "    nr_all += 1\n",
    "nr_all"
   ]
  },
  {
   "cell_type": "markdown",
   "metadata": {},
   "source": [
    "Airlines and their IDs"
   ]
  },
  {
   "cell_type": "code",
   "execution_count": 18,
   "metadata": {},
   "outputs": [],
   "source": [
    "airlines = {'KLM':56377143, \n",
    "            'AirFrance': 106062176, \n",
    "            'British_Airways': 18332190, \n",
    "            'AmericanAir': 22536055, \n",
    "           'Lufthansa': 124476322, \n",
    "           'AirBerlin': 26223583, \n",
    "           'AirBerlinAssist': 2182373406, \n",
    "           'easyJet': 38676903, \n",
    "           'RyanAir': 1542862735, \n",
    "           'SingaporeAir': 253340062, \n",
    "           'Qantas': 218730857, \n",
    "           'EtihadAirways': 45621423, \n",
    "           'VirginAtlantic': 20626359}"
   ]
  },
  {
   "cell_type": "markdown",
   "metadata": {},
   "source": [
    "Connect the tweets to airlines and store the total length of all posts for an airline "
   ]
  },
  {
   "cell_type": "code",
   "execution_count": 39,
   "metadata": {},
   "outputs": [],
   "source": [
    "air_count = {}\n",
    "for name in airlines:\n",
    "    air_count[name] = {}\n",
    "    air_count[name]['nr'] = 0\n",
    "    air_count[name]['len'] = 0\n",
    "    for tweet in col.find():\n",
    "        if name in tweet['text'] or airlines[name] == tweet['in_reply_to_user_id'] or airlines[name] == tweet['user']['id']:\n",
    "            air_count[name]['nr'] += 1\n",
    "            air_count[name]['len'] += len(tweet['text'].split())"
   ]
  },
  {
   "cell_type": "markdown",
   "metadata": {},
   "source": [
    "Get the average length of a post (in words)"
   ]
  },
  {
   "cell_type": "code",
   "execution_count": 58,
   "metadata": {},
   "outputs": [
    {
     "data": {
      "text/plain": [
       "{'KLM': {'nr': 152535, 'len': 5334608, 'avg_post': 35},\n",
       " 'AirFrance': {'nr': 37615, 'len': 1324758, 'avg_post': 35},\n",
       " 'British_Airways': {'nr': 266463, 'len': 9695674, 'avg_post': 36},\n",
       " 'AmericanAir': {'nr': 292715, 'len': 10546149, 'avg_post': 36},\n",
       " 'Lufthansa': {'nr': 90561, 'len': 2972093, 'avg_post': 33},\n",
       " 'AirBerlin': {'nr': 416, 'len': 13273, 'avg_post': 32},\n",
       " 'AirBerlinAssist': {'nr': 0, 'len': 0, 'avg_post': 0},\n",
       " 'easyJet': {'nr': 169221, 'len': 6150931, 'avg_post': 36},\n",
       " 'RyanAir': {'nr': 48714, 'len': 1789020, 'avg_post': 37},\n",
       " 'SingaporeAir': {'nr': 29051, 'len': 1013149, 'avg_post': 35},\n",
       " 'Qantas': {'nr': 92245, 'len': 3209933, 'avg_post': 35},\n",
       " 'EtihadAirways': {'nr': 19163, 'len': 625183, 'avg_post': 33},\n",
       " 'VirginAtlantic': {'nr': 64985, 'len': 2267713, 'avg_post': 35}}"
      ]
     },
     "execution_count": 58,
     "metadata": {},
     "output_type": "execute_result"
    }
   ],
   "source": [
    "for name in air_count:\n",
    "    if air_count[name]['nr'] != 0:\n",
    "        air_count[name]['avg_post'] = round(air_count[name]['len']/air_count[name]['nr'])\n",
    "    else:\n",
    "        air_count[name]['avg_post'] = 0\n",
    "air_count"
   ]
  },
  {
   "cell_type": "code",
   "execution_count": 75,
   "metadata": {},
   "outputs": [],
   "source": [
    "df = pd.DataFrame(columns=('airline', 'nr_tweets', 'avg_tweet'))"
   ]
  },
  {
   "cell_type": "code",
   "execution_count": 76,
   "metadata": {},
   "outputs": [],
   "source": [
    "a = []\n",
    "b = []\n",
    "for name in air_count: \n",
    "    a.append(air_count[name]['nr'])\n",
    "    b.append(air_count[name]['avg_post'])"
   ]
  },
  {
   "cell_type": "code",
   "execution_count": 77,
   "metadata": {},
   "outputs": [
    {
     "data": {
      "text/html": [
       "<div>\n",
       "<style scoped>\n",
       "    .dataframe tbody tr th:only-of-type {\n",
       "        vertical-align: middle;\n",
       "    }\n",
       "\n",
       "    .dataframe tbody tr th {\n",
       "        vertical-align: top;\n",
       "    }\n",
       "\n",
       "    .dataframe thead th {\n",
       "        text-align: right;\n",
       "    }\n",
       "</style>\n",
       "<table border=\"1\" class=\"dataframe\">\n",
       "  <thead>\n",
       "    <tr style=\"text-align: right;\">\n",
       "      <th></th>\n",
       "      <th>airline</th>\n",
       "      <th>nr_tweets</th>\n",
       "      <th>avg_tweet</th>\n",
       "    </tr>\n",
       "  </thead>\n",
       "  <tbody>\n",
       "    <tr>\n",
       "      <th>0</th>\n",
       "      <td>KLM</td>\n",
       "      <td>152535</td>\n",
       "      <td>35</td>\n",
       "    </tr>\n",
       "    <tr>\n",
       "      <th>1</th>\n",
       "      <td>AirFrance</td>\n",
       "      <td>37615</td>\n",
       "      <td>35</td>\n",
       "    </tr>\n",
       "    <tr>\n",
       "      <th>2</th>\n",
       "      <td>British_Airways</td>\n",
       "      <td>266463</td>\n",
       "      <td>36</td>\n",
       "    </tr>\n",
       "    <tr>\n",
       "      <th>3</th>\n",
       "      <td>AmericanAir</td>\n",
       "      <td>292715</td>\n",
       "      <td>36</td>\n",
       "    </tr>\n",
       "    <tr>\n",
       "      <th>4</th>\n",
       "      <td>Lufthansa</td>\n",
       "      <td>90561</td>\n",
       "      <td>33</td>\n",
       "    </tr>\n",
       "    <tr>\n",
       "      <th>5</th>\n",
       "      <td>AirBerlin</td>\n",
       "      <td>416</td>\n",
       "      <td>32</td>\n",
       "    </tr>\n",
       "    <tr>\n",
       "      <th>6</th>\n",
       "      <td>AirBerlinAssist</td>\n",
       "      <td>0</td>\n",
       "      <td>0</td>\n",
       "    </tr>\n",
       "    <tr>\n",
       "      <th>7</th>\n",
       "      <td>easyJet</td>\n",
       "      <td>169221</td>\n",
       "      <td>36</td>\n",
       "    </tr>\n",
       "    <tr>\n",
       "      <th>8</th>\n",
       "      <td>RyanAir</td>\n",
       "      <td>48714</td>\n",
       "      <td>37</td>\n",
       "    </tr>\n",
       "    <tr>\n",
       "      <th>9</th>\n",
       "      <td>SingaporeAir</td>\n",
       "      <td>29051</td>\n",
       "      <td>35</td>\n",
       "    </tr>\n",
       "    <tr>\n",
       "      <th>10</th>\n",
       "      <td>Qantas</td>\n",
       "      <td>92245</td>\n",
       "      <td>35</td>\n",
       "    </tr>\n",
       "    <tr>\n",
       "      <th>11</th>\n",
       "      <td>EtihadAirways</td>\n",
       "      <td>19163</td>\n",
       "      <td>33</td>\n",
       "    </tr>\n",
       "    <tr>\n",
       "      <th>12</th>\n",
       "      <td>VirginAtlantic</td>\n",
       "      <td>64985</td>\n",
       "      <td>35</td>\n",
       "    </tr>\n",
       "  </tbody>\n",
       "</table>\n",
       "</div>"
      ],
      "text/plain": [
       "            airline  nr_tweets  avg_tweet\n",
       "0               KLM     152535         35\n",
       "1         AirFrance      37615         35\n",
       "2   British_Airways     266463         36\n",
       "3       AmericanAir     292715         36\n",
       "4         Lufthansa      90561         33\n",
       "5         AirBerlin        416         32\n",
       "6   AirBerlinAssist          0          0\n",
       "7           easyJet     169221         36\n",
       "8           RyanAir      48714         37\n",
       "9      SingaporeAir      29051         35\n",
       "10           Qantas      92245         35\n",
       "11    EtihadAirways      19163         33\n",
       "12   VirginAtlantic      64985         35"
      ]
     },
     "execution_count": 77,
     "metadata": {},
     "output_type": "execute_result"
    }
   ],
   "source": [
    "df['airline'] = ['KLM', 'AirFrance', 'British_Airways', 'AmericanAir', 'Lufthansa', 'AirBerlin', 'AirBerlinAssist', 'easyJet', 'RyanAir', 'SingaporeAir', 'Qantas', 'EtihadAirways', 'VirginAtlantic']\n",
    "df['nr_tweets'] = a\n",
    "df['avg_tweet'] = b\n",
    "df"
   ]
  },
  {
   "cell_type": "code",
   "execution_count": 67,
   "metadata": {},
   "outputs": [],
   "source": [
    "nr_replies = []\n",
    "for con in convos:\n",
    "    nr_replies.append(len(convos[con]['convs']))"
   ]
  },
  {
   "cell_type": "code",
   "execution_count": 69,
   "metadata": {},
   "outputs": [
    {
     "data": {
      "text/plain": [
       "1.6757147493582745"
      ]
     },
     "execution_count": 69,
     "metadata": {},
     "output_type": "execute_result"
    }
   ],
   "source": [
    "#average number of replies a tweet gets \n",
    "sum(nr_replies)/len(nr_replies)"
   ]
  },
  {
   "cell_type": "code",
   "execution_count": 110,
   "metadata": {},
   "outputs": [],
   "source": [
    "#users_influencial = 0\n",
    "#tweets_per_infl_user = []\n",
    "#for tweet in col.find({'user':{'followers_count': {'$gt' : 100}}}):\n",
    " #   users_influential += 1\n",
    "  #  for t in col.find():\n",
    "   #     if t['user'] == tweet['user']:\n",
    "    #        nr_tweets_of_the_guy += 1\n",
    "    #tweets_per_infl_user.append(nr_tweets_of_the_guy)"
   ]
  },
  {
   "cell_type": "code",
   "execution_count": 111,
   "metadata": {},
   "outputs": [],
   "source": [
    "#users_influencial\n",
    "#tweets_per_infl_user"
   ]
  },
  {
   "cell_type": "code",
   "execution_count": 112,
   "metadata": {},
   "outputs": [],
   "source": [
    "#c_per_air = {}\n",
    "#for name in airlines:\n",
    " #   c_per_air[name] = 0\n",
    "  #  for c in convos:\n",
    "   #     k = col.find_one({'id': int(c)})\n",
    "    #    if name in k['text'] or airlines[name] == k['in_reply_to_user_id'] or airlines[name] == k['user']['id']:\n",
    "     #       c_per_air[name] += 1"
   ]
  },
  {
   "cell_type": "code",
   "execution_count": null,
   "metadata": {},
   "outputs": [],
   "source": []
  }
 ],
 "metadata": {
  "environment": {
   "name": "common-cpu.m47",
   "type": "gcloud",
   "uri": "gcr.io/deeplearning-platform-release/base-cpu:m47"
  },
  "kernelspec": {
   "display_name": "Python 3",
   "language": "python",
   "name": "python3"
  },
  "language_info": {
   "codemirror_mode": {
    "name": "ipython",
    "version": 3
   },
   "file_extension": ".py",
   "mimetype": "text/x-python",
   "name": "python",
   "nbconvert_exporter": "python",
   "pygments_lexer": "ipython3",
   "version": "3.7.6"
  }
 },
 "nbformat": 4,
 "nbformat_minor": 4
}
