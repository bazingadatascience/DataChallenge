{
 "cells": [
  {
   "cell_type": "code",
   "execution_count": 51,
   "metadata": {},
   "outputs": [],
   "source": [
    "#import important modules\n",
    "import pymongo as pm\n",
    "import pandas as pd\n",
    "import matplotlib.pyplot as plt\n",
    "import numpy as np\n",
    "import sklearn as skl\n",
    "from pymongo import MongoClient\n",
    "import json\n",
    "import pickle\n",
    "import re\n",
    "import pprint"
   ]
  },
  {
   "cell_type": "code",
   "execution_count": 28,
   "metadata": {},
   "outputs": [],
   "source": [
    "with open('editeddata/conversations.json', 'r') as convo_json:\n",
    "    convos = json.load(convo_json)"
   ]
  },
  {
   "cell_type": "code",
   "execution_count": 29,
   "metadata": {},
   "outputs": [],
   "source": [
    "client = MongoClient('localhost', 27017)\n",
    "mydb = client.tweets\n",
    "col = mydb['_tweets']"
   ]
  },
  {
   "cell_type": "code",
   "execution_count": 90,
   "metadata": {},
   "outputs": [],
   "source": [
    "airlines = {'KLM':56377143, \n",
    "            'AirFrance': 106062176, \n",
    "            'British_Airways': 18332190, \n",
    "            'AmericanAir': 22536055, \n",
    "           'Lufthansa': 124476322, \n",
    "           'AirBerlin': 26223583, \n",
    "           'AirBerlinAssist': 2182373406, \n",
    "           'easyJet': 38676903, \n",
    "           'RyanAir': 1542862735, \n",
    "           'SingaporeAir': 253340062, \n",
    "           'Qantas': 218730857, \n",
    "           'EtihadAirways': 45621423, \n",
    "           'VirginAtlantic': 20626359}"
   ]
  },
  {
   "cell_type": "code",
   "execution_count": 31,
   "metadata": {},
   "outputs": [],
   "source": [
    "air_count = pickle.load(open(\"save.p\", \"rb\"))"
   ]
  },
  {
   "cell_type": "markdown",
   "metadata": {},
   "source": [
    "Get the ratio of replied to received tweets for every airline"
   ]
  },
  {
   "cell_type": "code",
   "execution_count": 58,
   "metadata": {},
   "outputs": [],
   "source": [
    "for name in airlines:\n",
    "    if len(air_count[name]['ids']) != 0:\n",
    "        air_count[name]['rep_ratio'] = len(list(col.find({'user.id' : airlines[name]}))) / len(air_count[name]['ids'])\n",
    "    else:\n",
    "        air_count[name]['rep_ratio'] = 0"
   ]
  },
  {
   "cell_type": "code",
   "execution_count": 77,
   "metadata": {},
   "outputs": [
    {
     "data": {
      "text/plain": [
       "0.12852132297505492"
      ]
     },
     "execution_count": 77,
     "metadata": {},
     "output_type": "execute_result"
    }
   ],
   "source": [
    "air_count['KLM']['rep_ratio']"
   ]
  },
  {
   "cell_type": "code",
   "execution_count": 104,
   "metadata": {},
   "outputs": [
    {
     "data": {
      "image/png": "[encoded data removed]",
      "text/plain": [
       "<Figure size 864x360 with 1 Axes>"
      ]
     },
     "metadata": {
      "needs_background": "light"
     },
     "output_type": "display_data"
    }
   ],
   "source": [
    "rep_ratios = pd.Series([air_count[name]['rep_ratio'] for name in airlines])\n",
    "plt.figure(figsize=(12,5))\n",
    "plt.bar(airlines.keys(), rep_ratios)\n",
    "plt.xticks(rotation='45')\n",
    "plt.title('Ratio of replied to received tweets per airline', size=15);"
   ]
  },
  {
   "cell_type": "code",
   "execution_count": 112,
   "metadata": {},
   "outputs": [
    {
     "data": {
      "text/plain": [
       "0.13345621304626304"
      ]
     },
     "execution_count": 112,
     "metadata": {},
     "output_type": "execute_result"
    }
   ],
   "source": [
    "#Average reply/received ratio\n",
    "\n",
    "sum(list(rep_ratios))/len(rep_ratios)"
   ]
  },
  {
   "cell_type": "markdown",
   "metadata": {},
   "source": [
    "Number of tweets received from users normalized on the number of followers"
   ]
  },
  {
   "cell_type": "code",
   "execution_count": 93,
   "metadata": {},
   "outputs": [],
   "source": [
    "for name in airlines:\n",
    "    if name != 'AirBerlin' and name != 'AirBerlinAssist':\n",
    "        air_count[name]['followers'] = col.find_one({'user.id': airlines[name]})['user']['followers_count']\n",
    "        air_count[name]['norm_tweets'] = (air_count[name]['nr']*(1-air_count[name]['rep_ratio']))/air_count[name]['followers']\n",
    "    else:\n",
    "        air_count[name]['followers'] = 'unknown'\n",
    "        air_count[name]['norm_tweets'] = 'unknown'"
   ]
  },
  {
   "cell_type": "markdown",
   "metadata": {},
   "source": [
    "Note: AirBerlin and AirBerlinAssist are not included since we don't have any tweets from them, hence no information on the number of followers."
   ]
  },
  {
   "cell_type": "code",
   "execution_count": 107,
   "metadata": {},
   "outputs": [
    {
     "name": "stdout",
     "output_type": "stream",
     "text": [
      "0.05690315278679093\n",
      "0.08737490829053558\n",
      "0.16499212861505594\n",
      "0.17534325455220157\n",
      "0.19193193521205879\n",
      "unknown\n",
      "unknown\n",
      "0.2859667462095734\n",
      "0.09204724116437656\n",
      "0.029041847058094955\n",
      "0.18126486170789705\n",
      "0.028696688242086328\n",
      "0.08238347374735909\n"
     ]
    }
   ],
   "source": [
    "for name in airlines:\n",
    "    print(air_count[name]['norm_tweets'])"
   ]
  },
  {
   "cell_type": "markdown",
   "metadata": {},
   "source": [
    "We get the ratio of tweets customers post to the number of followers a company has.\n",
    "This is problematic since we are not sure the people who tweeted about an airline are actually their followers."
   ]
  },
  {
   "cell_type": "code",
   "execution_count": null,
   "metadata": {},
   "outputs": [],
   "source": []
  }
 ],
 "metadata": {
  "kernelspec": {
   "display_name": "Python 3",
   "language": "python",
   "name": "python3"
  },
  "language_info": {
   "codemirror_mode": {
    "name": "ipython",
    "version": 3
   },
   "file_extension": ".py",
   "mimetype": "text/x-python",
   "name": "python",
   "nbconvert_exporter": "python",
   "pygments_lexer": "ipython3",
   "version": "3.7.6"
  }
 },
 "nbformat": 4,
 "nbformat_minor": 4
}
